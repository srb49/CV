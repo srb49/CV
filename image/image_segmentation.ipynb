{
 "cells": [
  {
   "cell_type": "code",
   "execution_count": 2,
   "metadata": {},
   "outputs": [],
   "source": [
    "import matplotlib.pyplot as plt\n",
    "import numpy as np\n",
    "import cv2\n",
    "from skimage.filters import threshold_otsu"
   ]
  },
  {
   "attachments": {},
   "cell_type": "markdown",
   "metadata": {},
   "source": [
    "Segmentation"
   ]
  },
  {
   "cell_type": "code",
   "execution_count": null,
   "metadata": {},
   "outputs": [],
   "source": [
    "sample_image = cv2.imread('files/img1.JPG')\n",
    "img = cv2.cvtColor(sample_image,cv2.COLOR_BGR2RGB)\n",
    "twoDimage = img.reshape((-1,3))\n",
    "twoDimage = np.float32(twoDimage)\n",
    "criteria = (cv2.TERM_CRITERIA_EPS + cv2.TERM_CRITERIA_MAX_ITER, 10, 1.0)\n",
    "K = 5\n",
    "attempts=10\n",
    "ret,label,center=cv2.kmeans(twoDimage,K,None,criteria,attempts,cv2.KMEANS_PP_CENTERS)\n",
    "center = np.uint8(center)\n",
    "res = center[label.flatten()]\n",
    "result_image = res.reshape((img.shape))\n",
    "\n",
    "fig = plt.figure(figsize=(15, 7))\n",
    "plt.axis('off')\n",
    "fig.add_subplot(1, 2, 1)\n",
    "plt.imshow(img)\n",
    "fig.add_subplot(1, 2, 2)\n",
    "plt.imshow(result_image)"
   ]
  },
  {
   "attachments": {},
   "cell_type": "markdown",
   "metadata": {},
   "source": [
    "edge detection"
   ]
  },
  {
   "cell_type": "code",
   "execution_count": null,
   "metadata": {},
   "outputs": [],
   "source": [
    "img = cv2.cvtColor(sample_image,cv2.COLOR_BGR2RGB)\n",
    "img = cv2.resize(img,(256,256))\n",
    "gray = cv2.cvtColor(img,cv2.COLOR_RGB2GRAY)\n",
    "_,thresh = cv2.threshold(gray, np.mean(gray), 255, cv2.THRESH_BINARY_INV)\n",
    "edges = cv2.dilate(cv2.Canny(thresh,0,255),None)\n",
    "plt.axis('off')\n",
    "plt.imshow(edges)"
   ]
  },
  {
   "cell_type": "code",
   "execution_count": null,
   "metadata": {},
   "outputs": [],
   "source": [
    "edges = cv2.Canny(img, 100, 200, 3, L2gradient=True)\n",
    "plt.figure()\n",
    "plt.title('Edges')\n",
    "plt.imsave('img1.JPG', edges, cmap='gray', format='png')\n",
    "plt.imshow(edges, cmap='gray')\n",
    "plt.show()"
   ]
  },
  {
   "attachments": {},
   "cell_type": "markdown",
   "metadata": {},
   "source": [
    "color masking"
   ]
  },
  {
   "cell_type": "code",
   "execution_count": null,
   "metadata": {},
   "outputs": [],
   "source": [
    "img = cv2.cvtColor(sample_image,cv2.COLOR_BGR2RGB)\n",
    "low = np.array([0, 0, 0])\n",
    "high = np.array([215, 51, 51])\n",
    "mask = cv2.inRange(img, low, high)\n",
    "result = cv2.bitwise_and(img, img, mask=mask)\n",
    "plt.axis('off')\n",
    "plt.imshow(result)"
   ]
  }
 ],
 "metadata": {
  "kernelspec": {
   "display_name": "cvenv",
   "language": "python",
   "name": "python3"
  },
  "language_info": {
   "codemirror_mode": {
    "name": "ipython",
    "version": 3
   },
   "file_extension": ".py",
   "mimetype": "text/x-python",
   "name": "python",
   "nbconvert_exporter": "python",
   "pygments_lexer": "ipython3",
   "version": "3.9.5"
  },
  "orig_nbformat": 4
 },
 "nbformat": 4,
 "nbformat_minor": 2
}
